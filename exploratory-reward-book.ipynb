{
 "cells": [
  {
   "cell_type": "markdown",
   "id": "342d8371",
   "metadata": {},
   "source": [
    "# Exploratory Rewards Allocation Notebook\n",
    "This goal of this notebook is to allow to visualize how changing different parameters of the reward system affects the outcome and inform decisionmakers' choices. "
   ]
  },
  {
   "cell_type": "markdown",
   "id": "8d9d1675",
   "metadata": {},
   "source": [
    "### Basic Setup\n",
    "First, we import the relevant libraries, get the Data and set how many tokens we want to distribute"
   ]
  },
  {
   "cell_type": "code",
   "execution_count": 1,
   "id": "6b54e374",
   "metadata": {},
   "outputs": [
    {
     "name": "stdout",
     "output_type": "stream",
     "text": [
      "== Please choose the Praise CSV file == \n"
     ]
    },
    {
     "data": {
      "application/vnd.jupyter.widget-view+json": {
       "model_id": "821626f327b241d09d034d68576516da",
       "version_major": 2,
       "version_minor": 0
      },
      "text/plain": [
       "FileChooser(path='C:\\Users\\Pablo\\Documents\\TEC\\ownRepo\\praise_RewardAnalysis\\exampleFiles', filename='', title…"
      ]
     },
     "metadata": {},
     "output_type": "display_data"
    },
    {
     "name": "stdout",
     "output_type": "stream",
     "text": [
      "== Please choose the Sourcecred CSV file == \n"
     ]
    },
    {
     "data": {
      "application/vnd.jupyter.widget-view+json": {
       "model_id": "60722fa5856a44c49114c77184beacfd",
       "version_major": 2,
       "version_minor": 0
      },
      "text/plain": [
       "FileChooser(path='C:\\Users\\Pablo\\Documents\\TEC\\ownRepo\\praise_RewardAnalysis\\exampleFiles', filename='', title…"
      ]
     },
     "metadata": {},
     "output_type": "display_data"
    }
   ],
   "source": [
    "from ipyfilechooser import FileChooser\n",
    "\n",
    "import pandas as pd \n",
    "import numpy as np \n",
    "import analytics_toolbox as tb\n",
    "\n",
    "fc_praise = FileChooser('./exampleFiles')\n",
    "fc_sourcecred = FileChooser('./exampleFiles')\n",
    "\n",
    "print(\"== Please choose the Praise CSV file == \")\n",
    "display(fc_praise)\n",
    "print(\"== Please choose the Sourcecred CSV file == \")\n",
    "display(fc_sourcecred)\n"
   ]
  },
  {
   "cell_type": "markdown",
   "id": "4d8b297b",
   "metadata": {},
   "source": [
    "Now that we have selected the files, we can import them for processing. We can also set the total amount of tokens we want to distribute this period.\n",
    "Tip: Now that the file paths are set, you can safely click on \"Cell > Run all below\" from here on the menu bar to execute everything :) "
   ]
  },
  {
   "cell_type": "code",
   "execution_count": 2,
   "id": "9e67fa12",
   "metadata": {},
   "outputs": [],
   "source": [
    "PRAISE_DATA_PATH = fc_praise.selected\n",
    "SOURCECRED_DATA_PATH = fc_sourcecred.selected\n",
    "NUMBER_OF_REWARD_TOKENS_TO_DISTRIBUTE = 1000\n",
    "\n",
    "praise_data = pd.read_csv(PRAISE_DATA_PATH)\n",
    "sourcecred_data = pd.read_csv(SOURCECRED_DATA_PATH)"
   ]
  },
  {
   "cell_type": "markdown",
   "id": "11f52bdb",
   "metadata": {},
   "source": [
    "## Praise reward allocation\n",
    "This method allocates the praise rewards in a very straightforward way: It adds the value of all dished praised together, and then assigns to each user their % of the total."
   ]
  },
  {
   "cell_type": "code",
   "execution_count": 3,
   "id": "b41b12db",
   "metadata": {},
   "outputs": [],
   "source": [
    "def calc_praise_rewards(praiseData, tokensToDistribute):\n",
    "    #we discard all we don't need and and aggregate all the praise for each single user\n",
    "    slimData = praiseData[['TO', 'FINAL QUANT']].groupby(['TO']).agg('sum').reset_index()\n",
    "    totalPraisePoints = slimData['FINAL QUANT'].sum()\n",
    "\n",
    "    slimData['PERCENTAGE'] = slimData['FINAL QUANT']/totalPraisePoints\n",
    "    slimData['TOKEN TO RECEIVE'] = slimData['PERCENTAGE'] * tokensToDistribute\n",
    "    return slimData\n",
    "\n",
    "praise_distribution = calc_praise_rewards(praise_data, NUMBER_OF_REWARD_TOKENS_TO_DISTRIBUTE)"
   ]
  },
  {
   "cell_type": "markdown",
   "id": "69ead318",
   "metadata": {},
   "source": [
    "## Combining the Datasets\n",
    "\n",
    "Now that we have the distribution done, we combine it with sourcecred into one table.\n",
    "But before continuing, we also want to declare some methods for cleaning the data and prepare it. We'll use them later."
   ]
  },
  {
   "cell_type": "code",
   "execution_count": 4,
   "id": "ef2102ec",
   "metadata": {},
   "outputs": [],
   "source": [
    "#General Helper func. Puts all the \"processing we probably won't need to do later or do differently\" in one place\n",
    "#  -removes the '#' and following from discord names\n",
    "#  -Some renaming and dropping \n",
    "def prepare_praise(praise_data):\n",
    "    praise_data['TO'] = (praise_data['TO'].str.split('#', 1, expand=False).str[0]).str.lower()\n",
    "    praise_data.rename(columns = {'TO':'IDENTITY'}, inplace = True)\n",
    "    praise_data = praise_data[['IDENTITY', 'PERCENTAGE', 'TOKEN TO RECEIVE']]\n",
    "    return praise_data\n",
    "\n",
    "#General Helper func. Puts all the \"processing we probably won't need to do later or do differently\" in one place\n",
    "#  -Some renaming and dropping \n",
    "#  -changing percentages from 0 - 100 to 0.00-1.00\n",
    "def prepare_sourcecred(sourcecred_data):\n",
    "    sourcecred_data.rename(columns = {'%':'PERCENTAGE'}, inplace = True)\n",
    "    sourcecred_data['IDENTITY'] = sourcecred_data['IDENTITY'].str.lower()\n",
    "    sourcecred_data['PERCENTAGE'] = sourcecred_data['PERCENTAGE'] / 100\n",
    "    sourcecred_data = sourcecred_data[['IDENTITY', 'PERCENTAGE', 'TOKEN TO RECEIVE']]\n",
    "    return sourcecred_data"
   ]
  },
  {
   "cell_type": "markdown",
   "id": "a996a728",
   "metadata": {},
   "source": [
    "Now we are ready to go."
   ]
  },
  {
   "cell_type": "code",
   "execution_count": 5,
   "id": "fa8e8c0c",
   "metadata": {},
   "outputs": [
    {
     "name": "stdout",
     "output_type": "stream",
     "text": [
      "{0.3:    IDENTITY  PERCENTAGE  TOKEN TO RECEIVE\n",
      "0      bot0    0.025793        450.170333\n",
      "1      bot1    0.035706        713.023731\n",
      "2     bot10    0.058803       2843.955629\n",
      "3     bot11    0.007898        387.308430\n",
      "4     bot12    0.015046        402.887558\n",
      "5     bot13    0.010816       1081.596237\n",
      "6     bot14    0.000965         96.520399\n",
      "7     bot15    0.007125        712.547652\n",
      "8     bot16    0.027119       1491.362066\n",
      "9     bot17    0.021320       2131.965285\n",
      "10    bot18    0.024414       2441.398329\n",
      "11    bot19    0.008545        854.489415\n",
      "12     bot2    0.011026        387.625718\n",
      "13    bot20    0.009206         48.552644\n",
      "14    bot21    0.005763        576.283559\n",
      "15    bot22    0.007175        282.598962\n",
      "16    bot23    0.065906       6201.111172\n",
      "17    bot24    0.025436       2543.596399\n",
      "18    bot25    0.016210       1365.224038\n",
      "19    bot26    0.017601       1760.077865\n",
      "20    bot27    0.017941       1794.143888\n",
      "21    bot28    0.055730       4850.352069\n",
      "22    bot29    0.006671        667.126288\n",
      "23     bot3    0.033445       2158.142726\n",
      "24    bot30    0.018055       1805.499229\n",
      "25    bot31    0.028175       2526.662384\n",
      "26    bot32    0.028962        661.312859\n",
      "27    bot33    0.004003        400.275773\n",
      "28    bot34    0.003208        320.788385\n",
      "29    bot35    0.004159        102.524453\n",
      "30    bot36    0.021648       1901.836667\n",
      "31    bot37    0.007175        293.840610\n",
      "32    bot38    0.031656       2766.220549\n",
      "33    bot39    0.029495       1533.084021\n",
      "34     bot4    0.023120        287.301650\n",
      "35    bot40    0.004798        479.763160\n",
      "36    bot41    0.028303       2830.318761\n",
      "37    bot42    0.048686       4868.602482\n",
      "38    bot43    0.008566        444.185186\n",
      "39    bot44    0.006870        304.777560\n",
      "40    bot45    0.001760        176.007787\n",
      "41    bot46    0.030026       1634.790936\n",
      "42    bot47    0.003066        306.594209\n",
      "43    bot48    0.002640        264.011680\n",
      "44    bot49    0.044176       3208.739161\n",
      "45     bot5    0.035950       2495.090959\n",
      "46     bot6    0.005905        590.477735\n",
      "47     bot7    0.019906       1031.667357\n",
      "48     bot8    0.019499        977.861371\n",
      "49     bot9    0.024535       1845.704686, 0.4:    IDENTITY  PERCENTAGE  TOKEN TO RECEIVE\n",
      "0      bot0    0.032349        396.101337\n",
      "1      bot1    0.044350        624.908166\n",
      "2     bot10    0.065007       2452.280959\n",
      "3     bot11    0.008706        333.914687\n",
      "4     bot12    0.018196        350.631379\n",
      "5     bot13    0.009271        927.082488\n",
      "6     bot14    0.000827         82.731771\n",
      "7     bot15    0.006108        610.755130\n",
      "8     bot16    0.029116       1284.181243\n",
      "9     bot17    0.018274       1827.398816\n",
      "10    bot18    0.020926       2092.627139\n",
      "11    bot19    0.007324        732.419499\n",
      "12     bot2    0.012890        335.689565\n",
      "13    bot20    0.012086         45.811290\n",
      "14    bot21    0.004940        493.957336\n",
      "15    bot22    0.008242        244.319637\n",
      "16    bot23    0.058364       5317.111378\n",
      "17    bot24    0.021802       2180.225485\n",
      "18    bot25    0.015124       1171.422085\n",
      "19    bot26    0.015086       1508.638170\n",
      "20    bot27    0.015378       1537.837619\n",
      "21    bot28    0.051244       4160.920394\n",
      "22    bot29    0.005718        571.822532\n",
      "23     bot3    0.034373       1855.542938\n",
      "24    bot30    0.015476       1547.570768\n",
      "25    bot31    0.025549       2167.109583\n",
      "26    bot32    0.035575        577.589557\n",
      "27    bot33    0.003431        343.093519\n",
      "28    bot34    0.002750        274.961473\n",
      "29    bot35    0.005072         89.385350\n",
      "30    bot36    0.019820       1631.410416\n",
      "31    bot37    0.008188        253.901195\n",
      "32    bot38    0.029054       2372.967059\n",
      "33    bot39    0.032094       1320.884948\n",
      "34     bot4    0.029555        255.997192\n",
      "35    bot40    0.004112        411.225566\n",
      "36    bot41    0.024260       2425.987509\n",
      "37    bot42    0.041731       4173.087842\n",
      "38    bot43    0.009326        382.713835\n",
      "39    bot44    0.007727        263.076490\n",
      "40    bot45    0.001509        150.863817\n",
      "41    bot46    0.032315       1407.828421\n",
      "42    bot47    0.002628        262.795036\n",
      "43    bot48    0.002263        226.295726\n",
      "44    bot49    0.043680       2756.162448\n",
      "45     bot5    0.036105       2143.939917\n",
      "46     bot6    0.005061        506.123773\n",
      "47     bot7    0.021675        888.899002\n",
      "48     bot8    0.021389        842.842388\n",
      "49     bot9    0.023954       1584.956128, 0.5:    IDENTITY  PERCENTAGE  TOKEN TO RECEIVE\n",
      "0      bot0    0.038906        342.032340\n",
      "1      bot1    0.052994        536.792601\n",
      "2     bot10    0.071211       2060.606288\n",
      "3     bot11    0.009514        280.520945\n",
      "4     bot12    0.021345        298.375200\n",
      "5     bot13    0.007726        772.568740\n",
      "6     bot14    0.000689         68.943142\n",
      "7     bot15    0.005090        508.962608\n",
      "8     bot16    0.031113       1077.000420\n",
      "9     bot17    0.015228       1522.832347\n",
      "10    bot18    0.017439       1743.855949\n",
      "11    bot19    0.006103        610.349582\n",
      "12     bot2    0.014753        283.753411\n",
      "13    bot20    0.014965         43.069936\n",
      "14    bot21    0.004116        411.631114\n",
      "15    bot22    0.009309        206.040311\n",
      "16    bot23    0.050822       4433.111585\n",
      "17    bot24    0.018169       1816.854571\n",
      "18    bot25    0.014038        977.620131\n",
      "19    bot26    0.012572       1257.198475\n",
      "20    bot27    0.012815       1281.531349\n",
      "21    bot28    0.046758       3471.488720\n",
      "22    bot29    0.004765        476.518777\n",
      "23     bot3    0.035302       1552.943151\n",
      "24    bot30    0.012896       1289.642307\n",
      "25    bot31    0.022923       1807.556782\n",
      "26    bot32    0.042187        493.866255\n",
      "27    bot33    0.002859        285.911266\n",
      "28    bot34    0.002291        229.134561\n",
      "29    bot35    0.005985         76.246247\n",
      "30    bot36    0.017992       1360.984165\n",
      "31    bot37    0.009201        213.961781\n",
      "32    bot38    0.026453       1979.713569\n",
      "33    bot39    0.034694       1108.685876\n",
      "34     bot4    0.035991        224.692735\n",
      "35    bot40    0.003427        342.687971\n",
      "36    bot41    0.020217       2021.656258\n",
      "37    bot42    0.034776       3477.573201\n",
      "38    bot43    0.010086        321.242484\n",
      "39    bot44    0.008584        221.375420\n",
      "40    bot45    0.001257        125.719848\n",
      "41    bot46    0.034605       1180.865906\n",
      "42    bot47    0.002190        218.995863\n",
      "43    bot48    0.001886        188.579771\n",
      "44    bot49    0.043183       2303.585735\n",
      "45     bot5    0.036260       1792.788876\n",
      "46     bot6    0.004218        421.769811\n",
      "47     bot7    0.023444        746.130647\n",
      "48     bot8    0.023279        707.823404\n",
      "49     bot9    0.023372       1324.207569, 0.6:    IDENTITY  PERCENTAGE  TOKEN TO RECEIVE\n",
      "0      bot0    0.045462        287.963344\n",
      "1      bot1    0.061638        448.677035\n",
      "2     bot10    0.077416       1668.931617\n",
      "3     bot11    0.010321        227.127202\n",
      "4     bot12    0.024495        246.119021\n",
      "5     bot13    0.006181        618.054992\n",
      "6     bot14    0.000552         55.154514\n",
      "7     bot15    0.004072        407.170087\n",
      "8     bot16    0.033109        869.819597\n",
      "9     bot17    0.012183       1218.265877\n",
      "10    bot18    0.013951       1395.084760\n",
      "11    bot19    0.004883        488.279666\n",
      "12     bot2    0.016617        231.817257\n",
      "13    bot20    0.017845         40.328582\n",
      "14    bot21    0.003293        329.304891\n",
      "15    bot22    0.010376        167.760986\n",
      "16    bot23    0.043280       3549.111791\n",
      "17    bot24    0.014535       1453.483656\n",
      "18    bot25    0.012953        783.818178\n",
      "19    bot26    0.010058       1005.758780\n",
      "20    bot27    0.010252       1025.225079\n",
      "21    bot28    0.042273       2782.057045\n",
      "22    bot29    0.003812        381.215021\n",
      "23     bot3    0.036230       1250.343364\n",
      "24    bot30    0.010317       1031.713845\n",
      "25    bot31    0.020297       1448.003980\n",
      "26    bot32    0.048800        410.142953\n",
      "27    bot33    0.002287        228.729013\n",
      "28    bot34    0.001833        183.307649\n",
      "29    bot35    0.006898         63.107143\n",
      "30    bot36    0.016164       1090.557914\n",
      "31    bot37    0.010213        174.022366\n",
      "32    bot38    0.023852       1586.460078\n",
      "33    bot39    0.037293        896.486803\n",
      "34     bot4    0.042427        193.388278\n",
      "35    bot40    0.002742        274.150377\n",
      "36    bot41    0.016173       1617.325006\n",
      "37    bot42    0.027821       2782.058561\n",
      "38    bot43    0.010846        259.771133\n",
      "39    bot44    0.009442        179.674350\n",
      "40    bot45    0.001006        100.575878\n",
      "41    bot46    0.036895        953.903390\n",
      "42    bot47    0.001752        175.196691\n",
      "43    bot48    0.001509        150.863817\n",
      "44    bot49    0.042687       1851.009022\n",
      "45     bot5    0.036414       1441.637834\n",
      "46     bot6    0.003374        337.415849\n",
      "47     bot7    0.025213        603.362292\n",
      "48     bot8    0.025169        572.804420\n",
      "49     bot9    0.022791       1063.459011, 0.7:    IDENTITY  PERCENTAGE  TOKEN TO RECEIVE\n",
      "0      bot0    0.052018        233.894348\n",
      "1      bot1    0.070282        360.561470\n",
      "2     bot10    0.083620       1277.256947\n",
      "3     bot11    0.011129        173.733459\n",
      "4     bot12    0.027645        193.862842\n",
      "5     bot13    0.004635        463.541244\n",
      "6     bot14    0.000414         41.365885\n",
      "7     bot15    0.003054        305.377565\n",
      "8     bot16    0.035106        662.638774\n",
      "9     bot17    0.009137        913.699408\n",
      "10    bot18    0.010463       1046.313570\n",
      "11    bot19    0.003662        366.209749\n",
      "12     bot2    0.018481        179.881104\n",
      "13    bot20    0.020725         37.587228\n",
      "14    bot21    0.002470        246.978668\n",
      "15    bot22    0.011443        129.481661\n",
      "16    bot23    0.035738       2665.111998\n",
      "17    bot24    0.010901       1090.112742\n",
      "18    bot25    0.011867        590.016225\n",
      "19    bot26    0.007543        754.319085\n",
      "20    bot27    0.007689        768.918809\n",
      "21    bot28    0.037787       2092.625371\n",
      "22    bot29    0.002859        285.911266\n",
      "23     bot3    0.037159        947.743577\n",
      "24    bot30    0.007738        773.785384\n",
      "25    bot31    0.017671       1088.451179\n",
      "26    bot32    0.055412        326.419652\n",
      "27    bot33    0.001715        171.546760\n",
      "28    bot34    0.001375        137.480736\n",
      "29    bot35    0.007811         49.968040\n",
      "30    bot36    0.014336        820.131664\n",
      "31    bot37    0.011226        134.082952\n",
      "32    bot38    0.021250       1193.206588\n",
      "33    bot39    0.039892        684.287730\n",
      "34     bot4    0.048863        162.083821\n",
      "35    bot40    0.002056        205.612783\n",
      "36    bot41    0.012130       1212.993755\n",
      "37    bot42    0.020865       2086.543921\n",
      "38    bot43    0.011606        198.299783\n",
      "39    bot44    0.010299        137.973281\n",
      "40    bot45    0.000754         75.431909\n",
      "41    bot46    0.039184        726.940875\n",
      "42    bot47    0.001314        131.397518\n",
      "43    bot48    0.001131        113.147863\n",
      "44    bot49    0.042191       1398.432308\n",
      "45     bot5    0.036569       1090.486793\n",
      "46     bot6    0.002531        253.061887\n",
      "47     bot7    0.026982        460.593937\n",
      "48     bot8    0.027059        437.785437\n",
      "49     bot9    0.022209        802.710453}\n"
     ]
    },
    {
     "name": "stderr",
     "output_type": "stream",
     "text": [
      "c:\\users\\pablo\\documents\\tec\\venv\\venvrewardsalloc\\lib\\site-packages\\pandas\\core\\indexing.py:1773: SettingWithCopyWarning: \n",
      "A value is trying to be set on a copy of a slice from a DataFrame.\n",
      "Try using .loc[row_indexer,col_indexer] = value instead\n",
      "\n",
      "See the caveats in the documentation: https://pandas.pydata.org/pandas-docs/stable/user_guide/indexing.html#returning-a-view-versus-a-copy\n",
      "  self._setitem_single_column(ilocs[0], value, pi)\n"
     ]
    }
   ],
   "source": [
    "#generates a new table with combined percentages and added token rewards\n",
    "# ISSUE: We need single ids\n",
    "# weigjt specifies the weighting of the rewards between praise and sourcecred: 0.5 means 50/50; 0.3 means 30% praise, 70% sourcecred\n",
    "def combine_datasets(praise_data, sourcecred_data, weight):\n",
    "    processed_praise = prepare_praise(praise_data)\n",
    "    processed_sourcecred = prepare_sourcecred(sourcecred_data)\n",
    "    \n",
    "    #modify token to receive from praise by weight\n",
    "    processed_praise.loc[:,'TOKEN TO RECEIVE'] = processed_praise['TOKEN TO RECEIVE'].mul(weight)\n",
    "    processed_praise.loc[:,'PERCENTAGE'] = processed_praise['PERCENTAGE'].mul(weight)\n",
    "    \n",
    "    #modify token to receive from sorucecred by weight\n",
    "    processed_sourcecred.loc[:,'TOKEN TO RECEIVE'] = processed_sourcecred['TOKEN TO RECEIVE'].mul(1-weight)\n",
    "    processed_sourcecred.loc[:,'PERCENTAGE'] = processed_sourcecred['PERCENTAGE'].mul(1-weight)\n",
    "    \n",
    "    combined_dataset = processed_praise.append(processed_sourcecred, ignore_index=True)\n",
    "\n",
    "    combined_dataset = combined_dataset.groupby(['IDENTITY']).agg('sum').reset_index()\n",
    "    #since we just added two percentages\n",
    "    #combined_dataset['PERCENTAGE'] = combined_dataset['PERCENTAGE'] / 2\n",
    "\n",
    "\n",
    "    return combined_dataset\n",
    "\n",
    "total_praise_sets  = {}\n",
    "weightings = [0.3, 0.4, 0.5, 0.6, 0.7]\n",
    "for weight in weightings:\n",
    "    total_period_praise =combine_datasets(praise_distribution.copy(), sourcecred_data.copy(), weight)\n",
    "    total_praise_sets[weight]= total_period_praise.copy()\n",
    "print(total_praise_sets)"
   ]
  },
  {
   "cell_type": "markdown",
   "id": "aa4fd8ee",
   "metadata": {},
   "source": [
    "![title](img/praiseFusion.jpg)"
   ]
  },
  {
   "cell_type": "markdown",
   "id": "c9dbd669",
   "metadata": {},
   "source": [
    "## Result Analysis\n",
    "Let's dive into some data analysis! We'll use the metrics designed and explained by octopus🐙 for now, starting with:"
   ]
  },
  {
   "cell_type": "markdown",
   "id": "85843373",
   "metadata": {},
   "source": [
    "### Allocation percentages\n",
    "This table will show us which percentage if the total rewards gets distributed to which top % of users. So \"Top 50% -> 0.85\" would mean that the top 50% of praisees received 85% of the total rewards "
   ]
  },
  {
   "cell_type": "code",
   "execution_count": 6,
   "id": "46405b69",
   "metadata": {},
   "outputs": [
    {
     "name": "stdout",
     "output_type": "stream",
     "text": [
      "              0.3       0.4       0.5       0.6       0.7\n",
      "Top 50%  0.854751  0.853956  0.852848  0.851200  0.848490\n",
      "Top 20%  0.499782  0.499169  0.498316  0.497046  0.494958\n",
      "Top 10%  0.312557  0.312244  0.311809  0.311162  0.310097\n",
      "Top 5%   0.226459  0.226012  0.225390  0.224464  0.222941\n",
      "Top 1%   0.088209  0.088032  0.087784  0.087417  0.086811\n"
     ]
    }
   ],
   "source": [
    "p_vals = np.array([50,80,90,95,99])\n",
    "my_rd_index = [(\"Top \" + str(100 - p) +\"%\") for p in p_vals]\n",
    "resource_distribution = pd.DataFrame(index = my_rd_index)\n",
    "\n",
    "for period_split in total_praise_sets.keys():\n",
    "    rewards_rp = np.array([tb.resource_percentage(total_praise_sets[period_split][\"TOKEN TO RECEIVE\"].copy(), p) for p in p_vals])\n",
    "    resource_distribution[period_split] = rewards_rp\n",
    "\n",
    "print(resource_distribution)"
   ]
  },
  {
   "cell_type": "markdown",
   "id": "5d07afd0",
   "metadata": {},
   "source": [
    "### Gini coefficient\n",
    "Next we will look at the Gini coefficient. Note that there is some debate if we want to use this metric at all, since it is usually employed to measure wealth distribution, and not compensation."
   ]
  },
  {
   "cell_type": "code",
   "execution_count": 7,
   "id": "c71f0155",
   "metadata": {},
   "outputs": [
    {
     "name": "stdout",
     "output_type": "stream",
     "text": [
      "              0.3       0.4       0.5       0.6       0.7\n",
      "All      0.486962  0.485953  0.484568  0.482550  0.479278\n",
      "Top 50%  0.261237  0.260871  0.260361  0.259599  0.258366\n",
      "Top 20%  0.178236  0.178043  0.177774  0.177372  0.176817\n"
     ]
    }
   ],
   "source": [
    "p_vals = np.array([0, 50, 80])\n",
    "my_index = [\"All\", \"Top 50%\", \"Top 20%\"]\n",
    "gini_coefs = pd.DataFrame(index = my_index)\n",
    "\n",
    "for period_split in total_praise_sets.keys():\n",
    "    rewards_gc = np.array([tb.gini_gt_p(np.array(total_praise_sets[period_split][\"TOKEN TO RECEIVE\"]), p) for p in p_vals])\n",
    "    gini_coefs[period_split] = rewards_gc \n",
    "\n",
    "\n",
    "print(gini_coefs)"
   ]
  },
  {
   "cell_type": "markdown",
   "id": "1e10164d",
   "metadata": {},
   "source": [
    "### Shannon Entropy\n",
    "\n",
    "[Shannon Entropy](https://en.wikipedia.org/wiki/Entropy_(information_theory)) is a concept from communications theory, which is also used in measuring the diversity of a distribution. The formula for calculating Shannon Entropy among $n$ individuals is\n",
    "    $$\\\\sum_{k=1}^n -p_k log_2(p_k),$$\n",
    "where $p_k$ represents the proportion of the resource that user $k$ received.\n",
    "\n",
    "Here we compare the actual Shannon Entropy with the maximum possible for the dataset, keeping in mind that a Shannon Entropy of 0 would mean one user holds all the rewards\n"
   ]
  },
  {
   "cell_type": "code",
   "execution_count": 8,
   "id": "598539ae",
   "metadata": {},
   "outputs": [
    {
     "name": "stdout",
     "output_type": "stream",
     "text": [
      "                  0.3       0.4       0.5       0.6       0.7\n",
      "Entropy      5.224874  5.216653  5.182717  5.122839  5.035168\n",
      "Max Entropy  5.643856  5.643856  5.643856  5.643856  5.643856\n",
      "% of Max     0.925763  0.924306  0.918294  0.907684  0.892150\n"
     ]
    }
   ],
   "source": [
    "entropies_index = [\"Entropy\", \"Max Entropy\", \"% of Max\"]\n",
    "entropies_df = pd.DataFrame(index = entropies_index)\n",
    "\n",
    "for period_split in total_praise_sets.keys():\n",
    "    entrop_arr =  tb.calc_shannon_entropies(total_praise_sets[period_split][\"PERCENTAGE\"].copy())\n",
    "    entropies_df[period_split] = entrop_arr\n",
    "    \n",
    "print(entropies_df)"
   ]
  },
  {
   "cell_type": "markdown",
   "id": "3a50cebc",
   "metadata": {},
   "source": [
    "### Nakamoto Coefficient\n",
    "Last but not least, the Nakamoto coefficient. The Nakamato Coefficient is defined as the smallest number of accounts who control at least 50% of the resource. Although its significance relates to the prospect of a 51% attack on a network, which may not be relevant in our context, we can still use it as an intuitive measure of how many individuals received the majority of a resource."
   ]
  },
  {
   "cell_type": "code",
   "execution_count": 9,
   "id": "61fe657d",
   "metadata": {},
   "outputs": [
    {
     "name": "stdout",
     "output_type": "stream",
     "text": [
      "0.3: 13\n",
      "0.4: 12\n",
      "0.5: 12\n",
      "0.6: 11\n",
      "0.7: 10\n"
     ]
    }
   ],
   "source": [
    "\n",
    "for period_split in total_praise_sets.keys():\n",
    "    ak_coef_IH = tb.nakamoto_coeff(total_praise_sets[period_split].copy(), \"PERCENTAGE\")\n",
    "    print(str(period_split) + \": \" + str(ak_coef_IH))\n"
   ]
  },
  {
   "cell_type": "code",
   "execution_count": null,
   "id": "8eec3c7b",
   "metadata": {},
   "outputs": [],
   "source": []
  }
 ],
 "metadata": {
  "kernelspec": {
   "display_name": "Python 3 (ipykernel)",
   "language": "python",
   "name": "python3"
  },
  "language_info": {
   "codemirror_mode": {
    "name": "ipython",
    "version": 3
   },
   "file_extension": ".py",
   "mimetype": "text/x-python",
   "name": "python",
   "nbconvert_exporter": "python",
   "pygments_lexer": "ipython3",
   "version": "3.8.9"
  }
 },
 "nbformat": 4,
 "nbformat_minor": 5
}
