{
 "cells": [
  {
   "cell_type": "markdown",
   "id": "342d8371",
   "metadata": {},
   "source": [
    "# Rewards Allocation Notebook\n",
    "This goal of this notebook is to offer an easy way to process the outputs of the praise and sourcecred reward systems, calculate a reward distribution and perform an analysis of the results. It uses mock data and should be considered a work-in-progress. "
   ]
  },
  {
   "cell_type": "markdown",
   "id": "8d9d1675",
   "metadata": {},
   "source": [
    "### Basic Setup\n",
    "First, we import the relevant libraries, get the Data and set how many tokens we want to distribute"
   ]
  },
  {
   "cell_type": "code",
   "execution_count": 1,
   "id": "6b54e374",
   "metadata": {},
   "outputs": [
    {
     "name": "stdout",
     "output_type": "stream",
     "text": [
      "== Please choose the Praise CSV file == \n"
     ]
    },
    {
     "data": {
      "application/vnd.jupyter.widget-view+json": {
       "model_id": "aa427162357e45aab9c3900ccb51ff12",
       "version_major": 2,
       "version_minor": 0
      },
      "text/plain": [
       "FileChooser(path='C:\\Users\\Pablo\\Documents\\TEC\\ownRepo\\praise_RewardAnalysis\\exampleFiles', filename='', title…"
      ]
     },
     "metadata": {},
     "output_type": "display_data"
    },
    {
     "name": "stdout",
     "output_type": "stream",
     "text": [
      "== Please choose the Sourcecred CSV file == \n"
     ]
    },
    {
     "data": {
      "application/vnd.jupyter.widget-view+json": {
       "model_id": "f3a534726eac46f58fbb5dba06d33dfa",
       "version_major": 2,
       "version_minor": 0
      },
      "text/plain": [
       "FileChooser(path='C:\\Users\\Pablo\\Documents\\TEC\\ownRepo\\praise_RewardAnalysis\\exampleFiles', filename='', title…"
      ]
     },
     "metadata": {},
     "output_type": "display_data"
    }
   ],
   "source": [
    "from ipyfilechooser import FileChooser\n",
    "\n",
    "import pandas as pd \n",
    "import numpy as np \n",
    "import analytics_toolbox as tb\n",
    "\n",
    "fc_praise = FileChooser('./exampleFiles')\n",
    "fc_sourcecred = FileChooser('./exampleFiles')\n",
    "\n",
    "print(\"== Please choose the Praise CSV file == \")\n",
    "display(fc_praise)\n",
    "print(\"== Please choose the Sourcecred CSV file == \")\n",
    "display(fc_sourcecred)\n"
   ]
  },
  {
   "cell_type": "markdown",
   "id": "4d8b297b",
   "metadata": {},
   "source": [
    "Now that we have selected the files, we can import them for processing. We can also set the total amount of tokens we want to distribute this period.\n",
    "Tip: Now that the file paths are set, you can safely click on \"Cell > Run all below\" from here on the menu bar to execute everything :) "
   ]
  },
  {
   "cell_type": "code",
   "execution_count": 26,
   "id": "9e67fa12",
   "metadata": {},
   "outputs": [],
   "source": [
    "PRAISE_DATA_PATH = fc_praise.selected\n",
    "SOURCECRED_DATA_PATH = fc_sourcecred.selected\n",
    "NUMBER_OF_REWARD_TOKENS_TO_DISTRIBUTE = 1000\n",
    "\n",
    "praise_data = pd.read_csv(PRAISE_DATA_PATH)\n",
    "sourcecred_data = pd.read_csv(SOURCECRED_DATA_PATH)"
   ]
  },
  {
   "cell_type": "markdown",
   "id": "11f52bdb",
   "metadata": {},
   "source": [
    "## Praise reward allocation\n",
    "This method allocates the praise rewards in a very straightforward way: It adds the value of all dished praised together, and then assigns to each user their % of the total."
   ]
  },
  {
   "cell_type": "code",
   "execution_count": 27,
   "id": "b41b12db",
   "metadata": {},
   "outputs": [],
   "source": [
    "def calc_praise_rewards(praiseData, tokensToDistribute):\n",
    "    #we discard all we don't need and and aggregate all the praise for each single user\n",
    "    slimData = praiseData[['TO', 'FINAL QUANT']].groupby(['TO']).agg('sum').reset_index()\n",
    "    totalPraisePoints = slimData['FINAL QUANT'].sum()\n",
    "\n",
    "    slimData['PERCENTAGE'] = slimData['FINAL QUANT']/totalPraisePoints\n",
    "    slimData['TOKEN TO RECEIVE'] = slimData['PERCENTAGE'] * tokensToDistribute\n",
    "    return slimData\n",
    "\n",
    "praise_distribution = calc_praise_rewards(praise_data, NUMBER_OF_REWARD_TOKENS_TO_DISTRIBUTE)"
   ]
  },
  {
   "cell_type": "markdown",
   "id": "69ead318",
   "metadata": {},
   "source": [
    "## Combining the Datasets\n",
    "\n",
    "Now that we have the distribution done, we combine it with sourcecred into one table.\n",
    "But before continuing, we also want to declare some methods for cleaning the data and prepare it. We'll use them later."
   ]
  },
  {
   "cell_type": "code",
   "execution_count": 28,
   "id": "ef2102ec",
   "metadata": {},
   "outputs": [],
   "source": [
    "#General Helper func. Puts all the \"processing we probably won't need to do later or do differently\" in one place\n",
    "#  -removes the '#' and following from discord names\n",
    "#  -Some renaming and dropping \n",
    "def prepare_praise(praise_data):\n",
    "    praise_data['TO'] = (praise_data['TO'].str.split('#', 1, expand=False).str[0]).str.lower()\n",
    "    praise_data.rename(columns = {'TO':'IDENTITY'}, inplace = True)\n",
    "    praise_data = praise_data[['IDENTITY', 'PERCENTAGE', 'TOKEN TO RECEIVE']]\n",
    "    return praise_data\n",
    "\n",
    "#General Helper func. Puts all the \"processing we probably won't need to do later or do differently\" in one place\n",
    "#  -Some renaming and dropping \n",
    "#  -changing percentages from 0 - 100 to 0.00-1.00\n",
    "def prepare_sourcecred(sourcecred_data):\n",
    "    sourcecred_data.rename(columns = {'%':'PERCENTAGE'}, inplace = True)\n",
    "    sourcecred_data['IDENTITY'] = sourcecred_data['IDENTITY'].str.lower()\n",
    "    sourcecred_data['PERCENTAGE'] = sourcecred_data['PERCENTAGE'] / 100\n",
    "    sourcecred_data = sourcecred_data[['IDENTITY', 'PERCENTAGE', 'TOKEN TO RECEIVE']]\n",
    "    return sourcecred_data"
   ]
  },
  {
   "cell_type": "markdown",
   "id": "a996a728",
   "metadata": {},
   "source": [
    "Now we are ready to go."
   ]
  },
  {
   "cell_type": "code",
   "execution_count": 29,
   "id": "fa8e8c0c",
   "metadata": {},
   "outputs": [
    {
     "name": "stdout",
     "output_type": "stream",
     "text": [
      "   IDENTITY  PERCENTAGE  TOKEN TO RECEIVE\n",
      "0      bot0    0.009964         20.429892\n",
      "1      bot1    0.006717         28.485249\n",
      "2     bot10    0.020388         49.943960\n",
      "3     bot11    0.026847         59.303503\n",
      "4     bot12    0.007574         23.584987\n",
      "5     bot13    0.009725         23.008048\n",
      "6     bot14    0.003857         13.186561\n",
      "7     bot15    0.017057         47.020848\n",
      "8     bot16    0.000029          5.896987\n",
      "9     bot17    0.000622        124.481710\n",
      "10    bot18    0.004001          9.461443\n",
      "11    bot19    0.025120         67.937315\n",
      "12     bot2    0.023092        164.221255\n",
      "13    bot20    0.019912         40.507378\n",
      "14    bot21    0.024544         54.788796\n",
      "15    bot22    0.027926        173.069363\n",
      "16    bot23    0.000440         88.086243\n",
      "17    bot24    0.009140         30.412835\n",
      "18    bot25    0.004620         48.874776\n",
      "19    bot26    0.007754         30.057541\n",
      "20    bot27    0.000023          4.514881\n",
      "21    bot28    0.000031          6.127338\n",
      "22    bot29    0.000042          8.430849\n",
      "23     bot3    0.051776        108.341867\n",
      "24    bot30    0.000206         41.140698\n",
      "25    bot31    0.000004          0.829264\n",
      "26    bot32    0.000477         95.457477\n",
      "27    bot33    0.000107         21.422648\n",
      "28    bot34    0.000005          1.059615\n",
      "29    bot35    0.008694         34.446108\n",
      "30    bot36    0.014688         35.351500\n",
      "31    bot37    0.000156         31.143463\n",
      "32    bot38    0.010074         27.536067\n",
      "33    bot39    0.000157         31.373814\n",
      "34     bot4    0.014786         31.168076\n",
      "35    bot40    0.000002          0.368562\n",
      "36    bot41    0.000017          3.409196\n",
      "37    bot42    0.000014          2.718142\n",
      "38    bot43    0.005666         22.551245\n",
      "39    bot44    0.017086         41.105309\n",
      "40    bot45    0.000043          8.661200\n",
      "41    bot46    0.000106         21.146227\n",
      "42    bot47    0.023728         57.490248\n",
      "43    bot48    0.000021          4.146319\n",
      "44    bot49    0.007556         15.521502\n",
      "45     bot5    0.033732         74.031690\n",
      "46     bot6    0.013973         29.952363\n",
      "47     bot7    0.027240         56.578748\n",
      "48     bot8    0.016548         35.650515\n",
      "49     bot9    0.008713         45.566382\n"
     ]
    }
   ],
   "source": [
    "#generates a new table with combined percentages and added token rewards\n",
    "# ISSUE: We need single ids\n",
    "def combine_datasets(praise_data, sourcecred_data):\n",
    "    processed_praise = prepare_praise(praise_data)\n",
    "    processed_sourcecred = prepare_sourcecred(sourcecred_data)\n",
    "    combined_dataset = processed_praise.append(processed_sourcecred, ignore_index=True)\n",
    "\n",
    "    combined_dataset = combined_dataset.groupby(['IDENTITY']).agg('sum').reset_index()\n",
    "    #since we just added to percentages\n",
    "    combined_dataset['PERCENTAGE'] = combined_dataset['PERCENTAGE'] / 2\n",
    "\n",
    "\n",
    "    return combined_dataset\n",
    "\n",
    "\n",
    "total_period_praise =combine_datasets(praise_distribution, sourcecred_data)\n",
    "print(total_period_praise)"
   ]
  },
  {
   "cell_type": "markdown",
   "id": "aa4fd8ee",
   "metadata": {},
   "source": [
    "![title](img/praiseFusion.jpg)"
   ]
  },
  {
   "cell_type": "markdown",
   "id": "c9dbd669",
   "metadata": {},
   "source": [
    "## Result Analysis\n",
    "Let's dive into some data analysis! We'll use the metrics designed and explained by octopus🐙 for now, starting with:"
   ]
  },
  {
   "cell_type": "markdown",
   "id": "85843373",
   "metadata": {},
   "source": [
    "### Allocation percentages\n",
    "This table will show us which percentage if the total rewards gets distributed to which top % of users. So \"Top 50% -> 0.85\" would mean that the top 50% of praisees received 85% of the total rewards "
   ]
  },
  {
   "cell_type": "code",
   "execution_count": 30,
   "id": "46405b69",
   "metadata": {},
   "outputs": [
    {
     "name": "stdout",
     "output_type": "stream",
     "text": [
      "          Rewards\n",
      "Top 50%  0.818541\n",
      "Top 20%  0.506210\n",
      "Top 10%  0.332786\n",
      "Top 5%   0.230886\n",
      "Top 1%   0.086535\n"
     ]
    }
   ],
   "source": [
    "p_vals = np.array([50,80,90,95,99])\n",
    "rewards_rp = np.array([tb.resource_percentage(total_period_praise[\"TOKEN TO RECEIVE\"], p) for p in p_vals])\n",
    "\n",
    "my_rd_index = [(\"Top \" + str(100 - p) +\"%\") for p in p_vals]\n",
    "resource_distribution = pd.DataFrame({\"Rewards\": rewards_rp}, index = my_rd_index)\n",
    "print(resource_distribution)"
   ]
  },
  {
   "cell_type": "markdown",
   "id": "5d07afd0",
   "metadata": {},
   "source": [
    "### Gini coefficient\n",
    "Next we will look at the Gini coefficient. Note that there is some debate if we want to use this metric at all, since it is usually employed to measure wealth distribution, and not compensation."
   ]
  },
  {
   "cell_type": "code",
   "execution_count": 31,
   "id": "c71f0155",
   "metadata": {},
   "outputs": [
    {
     "name": "stdout",
     "output_type": "stream",
     "text": [
      "          Rewards\n",
      "All      0.477233\n",
      "Top 50%  0.297089\n",
      "Top 20%  0.214107\n"
     ]
    }
   ],
   "source": [
    "p_vals = np.array([0, 50, 80])\n",
    "rewards_gc = np.array([tb.gini_gt_p(np.array(total_period_praise[\"TOKEN TO RECEIVE\"]), p) for p in p_vals])\n",
    "\n",
    "my_index = [\"All\", \"Top 50%\", \"Top 20%\"]\n",
    "gini_coefs = pd.DataFrame({\"Rewards\": rewards_gc}, index = my_index)\n",
    "print(gini_coefs)"
   ]
  },
  {
   "cell_type": "markdown",
   "id": "1e10164d",
   "metadata": {},
   "source": [
    "### Shannon Entropy\n",
    "\n",
    "[Shannon Entropy](https://en.wikipedia.org/wiki/Entropy_(information_theory)) is a concept from communications theory, which is also used in measuring the diversity of a distribution. The formula for calculating Shannon Entropy among $n$ individuals is\n",
    "    $$\\\\sum_{k=1}^n -p_k log_2(p_k),$$\n",
    "where $p_k$ represents the proportion of the resource that user $k$ received.\n",
    "\n",
    "Here we compare the actual Shannon Entropy with the maximum possible for the dataset, keeping in mind that a Shannon Entropy of 0 would mean one user holds all the rewards\n"
   ]
  },
  {
   "cell_type": "code",
   "execution_count": 32,
   "id": "598539ae",
   "metadata": {},
   "outputs": [
    {
     "name": "stdout",
     "output_type": "stream",
     "text": [
      "              Rewards\n",
      "Entropy      5.703592\n",
      "Max Entropy  5.643856\n",
      "% of Max     1.010584\n"
     ]
    }
   ],
   "source": [
    "entropies_df = pd.DataFrame(data = {\"Rewards\" : tb.calc_shannon_entropies(total_period_praise[\"PERCENTAGE\"]) }, index = [\"Entropy\", \"Max Entropy\", \"% of Max\"])\n",
    "print(entropies_df)"
   ]
  },
  {
   "cell_type": "markdown",
   "id": "3a50cebc",
   "metadata": {},
   "source": [
    "### Nakamoto Coefficient\n",
    "Last but not least, the Nakamoto coefficient. The Nakamato Coefficient is defined as the smallest number of accounts who control at least 50% of the resource. Although its significance relates to the prospect of a 51% attack on a network, which may not be relevant in our context, we can still use it as an intuitive measure of how many individuals received the majority of a resource."
   ]
  },
  {
   "cell_type": "code",
   "execution_count": 33,
   "id": "61fe657d",
   "metadata": {},
   "outputs": [
    {
     "name": "stdout",
     "output_type": "stream",
     "text": [
      "31\n"
     ]
    }
   ],
   "source": [
    "ak_coef_IH = tb.nakamoto_coeff(total_period_praise, \"PERCENTAGE\")\n",
    "print(ak_coef_IH)"
   ]
  }
 ],
 "metadata": {
  "kernelspec": {
   "display_name": "Python 3 (ipykernel)",
   "language": "python",
   "name": "python3"
  },
  "language_info": {
   "codemirror_mode": {
    "name": "ipython",
    "version": 3
   },
   "file_extension": ".py",
   "mimetype": "text/x-python",
   "name": "python",
   "nbconvert_exporter": "python",
   "pygments_lexer": "ipython3",
   "version": "3.8.9"
  }
 },
 "nbformat": 4,
 "nbformat_minor": 5
}
